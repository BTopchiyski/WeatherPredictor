{
 "cells": [
  {
   "cell_type": "markdown",
   "metadata": {
    "id": "ck3zJUl9VHbl"
   },
   "source": [
    "Section 1: Import Libraries"
   ]
  },
  {
   "cell_type": "code",
   "execution_count": 1,
   "metadata": {
    "executionInfo": {
     "elapsed": 3727,
     "status": "ok",
     "timestamp": 1734858993230,
     "user": {
      "displayName": "Bojidar Topchiiski",
      "userId": "16662525085629616404"
     },
     "user_tz": -120
    },
    "id": "K51XebfuU-JD"
   },
   "outputs": [],
   "source": [
    "import requests #This library helps us fetch data from API\n",
    "import pandas as pd #for handling and analyzing data\n",
    "import numpy as np #for numerical operations\n",
    "import pytz\n",
    "from sklearn.model_selection import train_test_split #to split data intro training and testing sets\n",
    "from sklearn.preprocessing import LabelEncoder #to convert categorical data into numerical\n",
    "from sklearn.ensemble import RandomForestClassifier, RandomForestRegressor #models for classification and regression tasks\n",
    "from sklearn.metrics import mean_squared_error #to measure the accuracy of our predictions\n",
    "from datetime import datetime, timedelta #to handle date and time"
   ]
  },
  {
   "cell_type": "code",
   "execution_count": null,
   "metadata": {
    "executionInfo": {
     "elapsed": 393,
     "status": "ok",
     "timestamp": 1734859041043,
     "user": {
      "displayName": "Bojidar Topchiiski",
      "userId": "16662525085629616404"
     },
     "user_tz": -120
    },
    "id": "ND7cjz9HWEQU"
   },
   "outputs": [],
   "source": [
    "API_KEY = 'xxxxxxxxxxxxxxxxxxxxxxxxxxxxxxxx' #API key for openweathermap\n",
    "BASE_URL = 'https://api.openweathermap.org/data/2.5/' #base url for API requests"
   ]
  },
  {
   "cell_type": "markdown",
   "metadata": {
    "id": "XQ3KUJoUWd8z"
   },
   "source": [
    "**1. Fetch Current Weather Data**"
   ]
  },
  {
   "cell_type": "code",
   "execution_count": 4,
   "metadata": {
    "executionInfo": {
     "elapsed": 237,
     "status": "ok",
     "timestamp": 1734859042524,
     "user": {
      "displayName": "Bojidar Topchiiski",
      "userId": "16662525085629616404"
     },
     "user_tz": -120
    },
    "id": "jxoSQZvKWhip"
   },
   "outputs": [],
   "source": [
    "def get_current_weather(city):\n",
    "  url = f\"{BASE_URL}weather?q={city}&appid={API_KEY}&units=metric\" #construct the API request URL\n",
    "  response = requests.get(url) #send the get request to the API\n",
    "  data = response.json();\n",
    "  return {\n",
    "      'city' : data['name'],\n",
    "      'current_temp' : round(data['main']['temp']),\n",
    "      'feels_like' : round(data['main']['feels_like']),\n",
    "      'temp_min' : round(data['main']['temp_min']),\n",
    "      'temp_max' : round(data['main']['temp_max']),\n",
    "      'humidity' : round(data['main']['humidity']),\n",
    "      'description' : data['weather'][0]['description'],\n",
    "      'country' : data['sys']['country'],\n",
    "      'wind_gust_dir' : data['wind']['deg'],\n",
    "      'pressure': data['main']['pressure'],\n",
    "      'Wind_Gust_Speed': data['wind']['speed']\n",
    "  }"
   ]
  },
  {
   "cell_type": "markdown",
   "metadata": {
    "id": "P5w4-yo7ZN2u"
   },
   "source": [
    "**Read Historical Data**"
   ]
  },
  {
   "cell_type": "code",
   "execution_count": 5,
   "metadata": {
    "executionInfo": {
     "elapsed": 248,
     "status": "ok",
     "timestamp": 1734859044785,
     "user": {
      "displayName": "Bojidar Topchiiski",
      "userId": "16662525085629616404"
     },
     "user_tz": -120
    },
    "id": "0MhiK6vgZR-u"
   },
   "outputs": [],
   "source": [
    "def read_historical_data(filename):\n",
    "  df = pd.read_csv(filename)\n",
    "  df = df.dropna() #remove rows with missing values\n",
    "  df = df.drop_duplicates()\n",
    "  return df"
   ]
  },
  {
   "cell_type": "markdown",
   "metadata": {
    "id": "ybhE0szMmSuy"
   },
   "source": [
    "**3. Prepare data for training**"
   ]
  },
  {
   "cell_type": "code",
   "execution_count": 6,
   "metadata": {
    "executionInfo": {
     "elapsed": 260,
     "status": "ok",
     "timestamp": 1734859046372,
     "user": {
      "displayName": "Bojidar Topchiiski",
      "userId": "16662525085629616404"
     },
     "user_tz": -120
    },
    "id": "Q67eth8-mWhd"
   },
   "outputs": [],
   "source": [
    "def prepare_data(data):\n",
    "  le = LabelEncoder()\n",
    "  data['WindGustDir'] = le.fit_transform(data['WindGustDir'])\n",
    "  data['RainTomorrow'] = le.fit_transform(data['RainTomorrow'])\n",
    "\n",
    "  #define the feature variable and target variable\n",
    "  X = data[['MinTemp', 'MaxTemp', 'WindGustDir', 'WindGustSpeed', 'Humidity', 'Pressure', 'Temp']] #feature variables\n",
    "  y = data['RainTomorrow'] #target variable\n",
    "\n",
    "  return X, y, le"
   ]
  },
  {
   "cell_type": "markdown",
   "metadata": {
    "id": "iFEwXwaAnc3G"
   },
   "source": [
    "**4. Train Rain Prediction Model**"
   ]
  },
  {
   "cell_type": "code",
   "execution_count": 7,
   "metadata": {
    "executionInfo": {
     "elapsed": 233,
     "status": "ok",
     "timestamp": 1734859048065,
     "user": {
      "displayName": "Bojidar Topchiiski",
      "userId": "16662525085629616404"
     },
     "user_tz": -120
    },
    "id": "vyPGi24snf4a"
   },
   "outputs": [],
   "source": [
    "def train_rain_model(X, y):\n",
    "  X_train, X_test, y_train, y_test = train_test_split(X, y, test_size=0.2, random_state=42)\n",
    "  model = RandomForestClassifier(n_estimators=100, random_state=42)\n",
    "  model.fit(X_train, y_train) #train the model\n",
    "\n",
    "  y_pred = model.predict(X_test) #to make prediction on the test set\n",
    "  print(\"Mean Squared Error for Rain Model\")\n",
    "  print(mean_squared_error(y_test, y_pred))\n",
    "\n",
    "  return model"
   ]
  },
  {
   "cell_type": "markdown",
   "metadata": {
    "id": "Nbq_2ZKPoUE8"
   },
   "source": [
    "**5. Prepare regression data**"
   ]
  },
  {
   "cell_type": "code",
   "execution_count": 8,
   "metadata": {
    "executionInfo": {
     "elapsed": 231,
     "status": "ok",
     "timestamp": 1734859049884,
     "user": {
      "displayName": "Bojidar Topchiiski",
      "userId": "16662525085629616404"
     },
     "user_tz": -120
    },
    "id": "QPnZpF_xoZIX"
   },
   "outputs": [],
   "source": [
    "def prepare_regression_data(data, feature):\n",
    "  X, y = [], [] #initialize list for feature and target values\n",
    "\n",
    "  for i in range(len(data) - 1): #each feature from X is matched with the correct output from y\n",
    "    X.append(data[feature].iloc[i]) #X gets the feature values\n",
    "    y.append(data[feature].iloc[i+1]) #y gets the next feature values\n",
    "                                      #Regressions will learn the relation between past and future values\n",
    "\n",
    "  X = np.array(X).reshape(-1, 1) #2d array with 1 column for regression model\n",
    "  y = np.array(y) #target values\n",
    "  return X, y"
   ]
  },
  {
   "cell_type": "markdown",
   "metadata": {
    "id": "qfcRY9hsqFXU"
   },
   "source": [
    "**6. Train Regression Model**"
   ]
  },
  {
   "cell_type": "code",
   "execution_count": 9,
   "metadata": {
    "executionInfo": {
     "elapsed": 262,
     "status": "ok",
     "timestamp": 1734859052258,
     "user": {
      "displayName": "Bojidar Topchiiski",
      "userId": "16662525085629616404"
     },
     "user_tz": -120
    },
    "id": "0aZvNyb9qEcN"
   },
   "outputs": [],
   "source": [
    "def train_regression_model(X, y):\n",
    "  model = RandomForestRegressor(n_estimators=100, random_state=42) #Use 100 decision trees and same random state for reproduceability\n",
    "  model.fit(X, y)\n",
    "  return model"
   ]
  },
  {
   "cell_type": "markdown",
   "metadata": {
    "id": "yDyY6sJ8q1F5"
   },
   "source": [
    "**7. Predict Future**"
   ]
  },
  {
   "cell_type": "code",
   "execution_count": 10,
   "metadata": {
    "executionInfo": {
     "elapsed": 246,
     "status": "ok",
     "timestamp": 1734859053824,
     "user": {
      "displayName": "Bojidar Topchiiski",
      "userId": "16662525085629616404"
     },
     "user_tz": -120
    },
    "id": "rLga_7fWq3X7"
   },
   "outputs": [],
   "source": [
    "def predict_future(model, current_value):\n",
    "  predictions = [current_value]\n",
    "\n",
    "  for i in range(5): #predict the next 5 time steps\n",
    "    next_value = model.predict(np.array([[predictions[-1]]]))\n",
    "    predictions.append(next_value[0])\n",
    "\n",
    "  return predictions[1:]"
   ]
  },
  {
   "cell_type": "markdown",
   "metadata": {
    "id": "mlvBMiIwtJO7"
   },
   "source": [
    "**8. Weather Analysis Function**"
   ]
  },
  {
   "cell_type": "code",
   "execution_count": 12,
   "metadata": {
    "colab": {
     "base_uri": "https://localhost:8080/"
    },
    "executionInfo": {
     "elapsed": 4160,
     "status": "ok",
     "timestamp": 1734859087609,
     "user": {
      "displayName": "Bojidar Topchiiski",
      "userId": "16662525085629616404"
     },
     "user_tz": -120
    },
    "id": "dq0rZanPtNv8",
    "outputId": "cd9d8914-0c2f-40ab-8c4c-b0d394226f10"
   },
   "outputs": [
    {
     "name": "stdout",
     "output_type": "stream",
     "text": [
      "Enter any city name: Sofia\n",
      "Mean Squared Error for Rain Model\n",
      "0.1506849315068493\n",
      "City: Sofia, BG\n",
      "Current Temperature: 2°C\n",
      "Feels like: -2°C\n",
      "Minimum Temperature: 1°C\n",
      "Maximum Temperature: 2°C\n",
      "Humidity: 78%\n",
      "Weather Description: broken clouds\n",
      "Rain Prediction: Yes\n",
      "\n",
      "Future Temperature Predictions:\n",
      "12:00: 8.9°C\n",
      "13:00: 11.2°C\n",
      "14:00: 11.7°C\n",
      "15:00: 11.6°C\n",
      "16:00: 11.7°C\n",
      "\n",
      "Future Himidity Predictions:\n",
      "12:00: 48.6%\n",
      "13:00: 48.6%\n",
      "14:00: 48.6%\n",
      "15:00: 48.6%\n",
      "16:00: 48.6%\n"
     ]
    }
   ],
   "source": [
    "def weather_view():\n",
    "  city = input('Enter any city name: ')\n",
    "  current_weather = get_current_weather(city)\n",
    "\n",
    "  #load historical data\n",
    "  historical_data = read_historical_data('/content/weather.csv')\n",
    "\n",
    "  #prepare and train rain prediction model\n",
    "  X, y, le = prepare_data(historical_data)\n",
    "\n",
    "  rain_model = train_rain_model(X, y)\n",
    "\n",
    "  #map wind direction to compass points\n",
    "  wind_deg = current_weather['wind_gust_dir'] % 360\n",
    "  compass_points = [\n",
    "      (\"N\", 0, 11.25), (\"NNE\", 11.25, 33.75), (\"NE\", 33.75, 56.25),\n",
    "      (\"ENE\", 56.25, 78.75), (\"E\", 78.75, 101.25), (\"ESE\", 101.25, 123.75),\n",
    "      (\"SE\", 123.75, 146.25), (\"SSE\", 146.25, 168.75), (\"S\", 168.75, 191.25),\n",
    "      (\"SSW\", 191.25, 213.75), (\"SW\", 213.75, 236.25), (\"WSW\", 236.25, 258.75),\n",
    "      (\"W\", 258.75, 281.25), (\"WNW\", 281.25, 303.75), (\"NW\", 303.75, 326.25),\n",
    "      (\"NNW\", 326.25, 348.75), (\"N\", 348.75, 360.01)\n",
    "  ]\n",
    "  compass_direction = next(point for point, start, end in compass_points if start <= wind_deg < end)\n",
    "  compass_direction_encoded = le.transform([compass_direction])[0] if compass_direction in le.classes_ else -1\n",
    "\n",
    "  current_data = {\n",
    "      'MinTemp': current_weather['temp_min'],\n",
    "      'MaxTemp': current_weather['temp_max'],\n",
    "      'WindGustDir': compass_direction_encoded,\n",
    "      'WindGustSpeed': current_weather['Wind_Gust_Speed'],\n",
    "      'Humidity': current_weather['humidity'],\n",
    "      'Pressure': current_weather['pressure'],\n",
    "      'Temp': current_weather['current_temp']\n",
    "  }\n",
    "\n",
    "  current_df = pd.DataFrame([current_data])\n",
    "\n",
    "  #rain prediction\n",
    "  rain_prediction = rain_model.predict(current_df)[0]\n",
    "\n",
    "  #prepare regression model for temperature and humidity\n",
    "  X_temp, y_temp = prepare_regression_data(historical_data, 'Temp')\n",
    "  X_hum, y_hum = prepare_regression_data(historical_data, 'Humidity')\n",
    "\n",
    "  temp_model = train_regression_model(X_temp, y_temp)\n",
    "  hum_model = train_regression_model(X_hum, y_hum)\n",
    "\n",
    "  #predict future temperature and humidity\n",
    "  future_temp = predict_future(temp_model, current_weather['temp_min'])\n",
    "  future_humidity = predict_future(hum_model, current_weather['humidity'])\n",
    "\n",
    "  #prepare time for future predictions\n",
    "  timezone = pytz.timezone('Europe/Helsinki')\n",
    "  now = datetime.now(timezone)\n",
    "  next_hour = now + timedelta(hours=1)\n",
    "  next_hour = next_hour.replace(minute=0, second=0, microsecond=0)\n",
    "\n",
    "  future_times = [(next_hour + timedelta(hours=i)).strftime(\"%H:00\") for i in range(5)]\n",
    "\n",
    "  #Display results\n",
    "  print(f\"City: {city}, {current_weather['country']}\")\n",
    "  print(f\"Current Temperature: {current_weather['current_temp']}°C\")\n",
    "  print(f\"Feels like: {current_weather['feels_like']}°C\")\n",
    "  print(f\"Minimum Temperature: {current_weather['temp_min']}°C\")\n",
    "  print(f\"Maximum Temperature: {current_weather['temp_max']}°C\")\n",
    "  print(f\"Humidity: {current_weather['humidity']}%\")\n",
    "  print(f\"Weather Description: {current_weather['description']}\")\n",
    "  print(f\"Rain Prediction: {'Yes' if rain_prediction else 'No'}\")\n",
    "\n",
    "  print(\"\\nFuture Temperature Predictions:\")\n",
    "  for time, temp in zip(future_times, future_temp):\n",
    "    print(f\"{time}: {round(temp, 1)}°C\")\n",
    "\n",
    "  print(\"\\nFuture Himidity Predictions:\")\n",
    "  for time, humidity in zip(future_times, future_humidity):\n",
    "    print(f\"{time}: {round(humidity, 1)}%\")\n",
    "\n",
    "weather_view()"
   ]
  }
 ],
 "metadata": {
  "colab": {
   "authorship_tag": "ABX9TyNqVvQx11uga04JQZ/EqtPh",
   "provenance": []
  },
  "kernelspec": {
   "display_name": "Python 3",
   "name": "python3"
  },
  "language_info": {
   "name": "python"
  }
 },
 "nbformat": 4,
 "nbformat_minor": 0
}
